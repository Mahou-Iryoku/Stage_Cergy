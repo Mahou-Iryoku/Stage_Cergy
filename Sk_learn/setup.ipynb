{
 "cells": [
  {
   "cell_type": "markdown",
   "metadata": {},
   "source": [
    "### Load datasets\n"
   ]
  },
  {
   "cell_type": "markdown",
   "metadata": {},
   "source": [
    "#### Dataset des tweets"
   ]
  },
  {
   "cell_type": "code",
   "execution_count": 1,
   "metadata": {},
   "outputs": [],
   "source": [
    "import pandas as pd\n",
    "df = pd.read_csv('D:\\\\\\Data\\\\\\Work\\\\\\Stage_Cergy\\\\\\Tests_modèles\\\\Sk_learn\\\\files\\\\tweets_v5.csv') \n",
    "pd.set_option('display.max_colwidth', None)"
   ]
  },
  {
   "cell_type": "code",
   "execution_count": 2,
   "metadata": {},
   "outputs": [
    {
     "data": {
      "text/html": [
       "<div>\n",
       "<style scoped>\n",
       "    .dataframe tbody tr th:only-of-type {\n",
       "        vertical-align: middle;\n",
       "    }\n",
       "\n",
       "    .dataframe tbody tr th {\n",
       "        vertical-align: top;\n",
       "    }\n",
       "\n",
       "    .dataframe thead th {\n",
       "        text-align: right;\n",
       "    }\n",
       "</style>\n",
       "<table border=\"1\" class=\"dataframe\">\n",
       "  <thead>\n",
       "    <tr style=\"text-align: right;\">\n",
       "      <th></th>\n",
       "      <th>id</th>\n",
       "      <th>data</th>\n",
       "      <th>label</th>\n",
       "    </tr>\n",
       "  </thead>\n",
       "  <tbody>\n",
       "    <tr>\n",
       "      <th>0</th>\n",
       "      <td>1</td>\n",
       "      <td>Nous aurons à être solidaires et accueillants de celles et ceux qui fuient aujourd’hui leur pays en guerre.</td>\n",
       "      <td>aide sociale</td>\n",
       "    </tr>\n",
       "    <tr>\n",
       "      <th>1</th>\n",
       "      <td>2</td>\n",
       "      <td>🇺🇦 Solidarité avec l’Ukraine, solidarité avec le peuple ukrainien. https://t.co/r1l8bVoHHd</td>\n",
       "      <td>aide sociale</td>\n",
       "    </tr>\n",
       "    <tr>\n",
       "      <th>2</th>\n",
       "      <td>3</td>\n",
       "      <td>Je serai place de la République à Paris ce soir à 18h en soutien au peuple ukrainien. J’appelle tous les citoyens Français qui ont la paix au cœur à se mobiliser. La voix de notre peuple compte.</td>\n",
       "      <td>liberte</td>\n",
       "    </tr>\n",
       "    <tr>\n",
       "      <th>3</th>\n",
       "      <td>4</td>\n",
       "      <td>La responsabilité de la France est de tout faire pour que cesse la guerre aux portes de l’Europe. L’impuissance ne peut servir de réponse à la violation du droit international.</td>\n",
       "      <td>international</td>\n",
       "    </tr>\n",
       "    <tr>\n",
       "      <th>4</th>\n",
       "      <td>5</td>\n",
       "      <td>Ce matin devant l’ambassade de Russie j’ai vu la tristesse, la dignité et la mobilisation des jeunes Ukrainiens de France. Je leur apporte mon soutien.</td>\n",
       "      <td>NaN</td>\n",
       "    </tr>\n",
       "  </tbody>\n",
       "</table>\n",
       "</div>"
      ],
      "text/plain": [
       "   id  \\\n",
       "0   1   \n",
       "1   2   \n",
       "2   3   \n",
       "3   4   \n",
       "4   5   \n",
       "\n",
       "                                                                                                                                                                                                 data  \\\n",
       "0                                                                                         Nous aurons à être solidaires et accueillants de celles et ceux qui fuient aujourd’hui leur pays en guerre.   \n",
       "1                                                                                                          🇺🇦 Solidarité avec l’Ukraine, solidarité avec le peuple ukrainien. https://t.co/r1l8bVoHHd   \n",
       "2  Je serai place de la République à Paris ce soir à 18h en soutien au peuple ukrainien. J’appelle tous les citoyens Français qui ont la paix au cœur à se mobiliser. La voix de notre peuple compte.   \n",
       "3                    La responsabilité de la France est de tout faire pour que cesse la guerre aux portes de l’Europe. L’impuissance ne peut servir de réponse à la violation du droit international.   \n",
       "4                                             Ce matin devant l’ambassade de Russie j’ai vu la tristesse, la dignité et la mobilisation des jeunes Ukrainiens de France. Je leur apporte mon soutien.   \n",
       "\n",
       "           label  \n",
       "0   aide sociale  \n",
       "1   aide sociale  \n",
       "2        liberte  \n",
       "3  international  \n",
       "4            NaN  "
      ]
     },
     "execution_count": 2,
     "metadata": {},
     "output_type": "execute_result"
    }
   ],
   "source": [
    "df.head()"
   ]
  },
  {
   "cell_type": "code",
   "execution_count": null,
   "metadata": {},
   "outputs": [],
   "source": [
    "df.groupby('label').size()"
   ]
  },
  {
   "cell_type": "markdown",
   "metadata": {},
   "source": [
    "### Mise en place du text preprocessing "
   ]
  },
  {
   "cell_type": "code",
   "execution_count": 3,
   "metadata": {},
   "outputs": [],
   "source": [
    "import unidecode\n",
    "import re\n",
    "from spacy.lang.fr.stop_words import STOP_WORDS as fr_stop #Spacy stopwords\n",
    "from spacy.lang.fr.stop_words import STOP_WORDS as en_stop\n",
    "import test"
   ]
  },
  {
   "cell_type": "code",
   "execution_count": 4,
   "metadata": {},
   "outputs": [],
   "source": [
    "fr_stop.add(\"ans\")\n",
    "fr_stop.add(\"ca\")\n",
    "fr_stop.add(\"etre\")"
   ]
  },
  {
   "cell_type": "code",
   "execution_count": 3,
   "metadata": {},
   "outputs": [],
   "source": [
    "def remove_emoji():\n",
    "  regrex_pattern = re.compile(pattern = \"[\"    #Pattern pour enlever les emojis\n",
    "          u\"\\U0001F600-\\U0001F64F\"  # emoticons\n",
    "          u\"\\U0001F300-\\U0001F5FF\"  # symbols & pictographs\n",
    "          u\"\\U0001F680-\\U0001F6FF\"  # transport & map symbols\n",
    "          u\"\\U0001F1E0-\\U0001F1FF\"  # flags (iOS)\n",
    "          u\"\\U00002702-\\U000027B0\"\n",
    "          u\"\\U00002702-\\U000027B0\"\n",
    "          u\"\\U000024C2-\\U0001F251\"\n",
    "          u\"\\U0001f926-\\U0001f937\"\n",
    "          u\"\\U00010000-\\U0010ffff\"\n",
    "          u\"\\u2640-\\u2642\" \n",
    "          u\"\\u2600-\\u2B55\"\n",
    "          u\"\\u200d\"\n",
    "          u\"\\u23cf\"\n",
    "          u\"\\u23e9\"\n",
    "          u\"\\u231a\"\n",
    "          u\"\\ufe0f\"  # dingbats\n",
    "          u\"\\u3030\"\n",
    "                            \"]+\", flags = re.UNICODE)\n",
    "  return regrex_pattern\n",
    " \n",
    "def remove_accents(text):\n",
    "  return unidecode.unidecode(text)\n",
    "\n",
    "def remove_stopwords(text):\n",
    "  list_stopwords = list(fr_stop) + list(en_stop)\n",
    "  stopwords = \" \".join([word for word in str(text).split() if word not in list_stopwords]) #Spacy stopwords\n",
    "  return stopwords\n",
    "    \n",
    "def remove_words(text):\n",
    "  liste_terme = [\"ve\",\"n\",\"s\",\"d\",\"l\",\"j\",\"y\",\"c\",\"e\",\"m\",\"h\",\"quelqu\",\"cht\",\"lr\",\"oas\",\"qu\",\"ll\",\"yu\",\"an\",\"g\",\"TRUE\",\"jadot\",\"avectaubira\",\"zemmourcroissance\",\"zemmourlille\",\"cdanslair\",\"taubirasorbonne\",\"emmanuel\",\"bfmpolitique\",\"aujourd\",\"macron\"]\n",
    "  return \" \".join([word for word in str(text).split() if word not in liste_terme])\n",
    "\n",
    "def final_preprocess(text): \n",
    "    text = text.lower()  #Mettre tout les mots en minuscule \n",
    "    text = re.sub(r'{link}', '',text) #Remove links \n",
    "    text = re.sub(r\"\\[video\\]\", '',text) #Remove videos\n",
    "    text = re.sub(r'&[a-z]+;', '',text) #Remove HTML references\n",
    "    text = re.sub(r'@mention', '',text) #Remove Twitters handles @\n",
    "    text = re.sub(r'\\d+', '', text) #Remove numbers \n",
    "    text = re.sub(r'http\\S+', '',text) #Remove HTML\n",
    "    text = re.sub(r'www\\S+', '',text) #Remove HTML\n",
    "    text = re.sub(r'[^\\w\\s]+',' ',text) #Remove ponctuation et apostrophes\n",
    "    text = re.sub(remove_emoji(),'',text)  #Remove les emojis\n",
    "    text = test.lematize(text) #Lemmatization\n",
    "    text = remove_accents(text) #Remove accents\n",
    "    text = remove_stopwords(text) #Remove stopwords\n",
    "    text = remove_words(text) #Remove custom words \n",
    "    return text "
   ]
  },
  {
   "cell_type": "markdown",
   "metadata": {},
   "source": [
    "### Choix de suppression / modification par thématique\n"
   ]
  },
  {
   "cell_type": "code",
   "execution_count": null,
   "metadata": {},
   "outputs": [],
   "source": [
    "#df.drop(df.index[(df[\"label\"] == \"juridique\")],inplace=True)\n",
    "#df.drop(df.index[(df[\"label\"] == \"justice\")],inplace=True)\n",
    "df.drop(df.index[(df[\"label\"] == \"numerique\")],inplace=True)\n",
    "\n",
    "#Modification des nouvelles labels\n",
    "df['label'] = df['label'].replace(['justice','juridique'],'droit politique')\n",
    "df['label'] = df['label'].replace(['droit politique','liberte'],'democratie')\n",
    "df['label'] = df['label'].replace('aide sociale','aide_sociale')\n",
    "df['label'] = df['label'].replace('pouvoir achat','pouvoir_achat')"
   ]
  },
  {
   "cell_type": "code",
   "execution_count": 187,
   "metadata": {},
   "outputs": [],
   "source": [
    "df.dropna(subset = [\"label\"], inplace=True) #Delete des lignes contenant des cases vides \n",
    "df.drop(df.index[(df[\"label\"] == \"autre\")],inplace=True)\n",
    "df.drop(df.index[(df[\"label\"] == \"delete\")],inplace=True)\n",
    "df.drop(df.index[(df[\"label\"] == \"autre#delete\")],inplace=True)"
   ]
  },
  {
   "cell_type": "markdown",
   "metadata": {},
   "source": [
    "#### Implémentation du text processing"
   ]
  },
  {
   "cell_type": "code",
   "execution_count": 8,
   "metadata": {},
   "outputs": [
    {
     "name": "stdout",
     "output_type": "stream",
     "text": [
      "CPU times: total: 19min 15s\n",
      "Wall time: 20min 13s\n"
     ]
    }
   ],
   "source": [
    "%%time\n",
    "#Cas pour la compilation avec Cython\n",
    "\n",
    "df['data_clean'] = df['data'].apply(lambda text: final_preprocess(text))"
   ]
  },
  {
   "cell_type": "markdown",
   "metadata": {},
   "source": [
    "#### Export des tweets nettoyés sur un nouveau CSV "
   ]
  },
  {
   "cell_type": "code",
   "execution_count": 9,
   "metadata": {},
   "outputs": [],
   "source": [
    "df.to_csv(\"D:\\\\\\Data\\\\\\Work\\\\\\Stage_Cergy\\\\\\Tests_modèles\\\\Sk_learn\\\\files\\\\tweets_clean.csv\")"
   ]
  },
  {
   "cell_type": "markdown",
   "metadata": {},
   "source": [
    "### Load new dataset pour les tweets nettoyées"
   ]
  },
  {
   "cell_type": "code",
   "execution_count": 1,
   "metadata": {},
   "outputs": [
    {
     "data": {
      "text/html": [
       "<div>\n",
       "<style scoped>\n",
       "    .dataframe tbody tr th:only-of-type {\n",
       "        vertical-align: middle;\n",
       "    }\n",
       "\n",
       "    .dataframe tbody tr th {\n",
       "        vertical-align: top;\n",
       "    }\n",
       "\n",
       "    .dataframe thead th {\n",
       "        text-align: right;\n",
       "    }\n",
       "</style>\n",
       "<table border=\"1\" class=\"dataframe\">\n",
       "  <thead>\n",
       "    <tr style=\"text-align: right;\">\n",
       "      <th></th>\n",
       "      <th>label</th>\n",
       "      <th>data</th>\n",
       "      <th>data_clean</th>\n",
       "    </tr>\n",
       "  </thead>\n",
       "  <tbody>\n",
       "    <tr>\n",
       "      <th>0</th>\n",
       "      <td>aide_sociale</td>\n",
       "      <td>Nous aurons à être solidaires et accueillants de celles et ceux qui fuient aujourd’hui leur pays en guerre.</td>\n",
       "      <td>solidaire accueillant fuir pays guerre</td>\n",
       "    </tr>\n",
       "    <tr>\n",
       "      <th>1</th>\n",
       "      <td>aide_sociale</td>\n",
       "      <td>🇺🇦 Solidarité avec l’Ukraine, solidarité avec le peuple ukrainien. https://t.co/r1l8bVoHHd</td>\n",
       "      <td>solidarite ukraine solidarite peupler ukrainien</td>\n",
       "    </tr>\n",
       "    <tr>\n",
       "      <th>2</th>\n",
       "      <td>democratie</td>\n",
       "      <td>Je serai place de la République à Paris ce soir à 18h en soutien au peuple ukrainien. J’appelle tous les citoyens Français qui ont la paix au cœur à se mobiliser. La voix de notre peuple compte.</td>\n",
       "      <td>placer republique paris soir soutien peupler ukrainien appeler citoyen francais paix coeur mobiliser voix peupler compter</td>\n",
       "    </tr>\n",
       "    <tr>\n",
       "      <th>3</th>\n",
       "      <td>international</td>\n",
       "      <td>La responsabilité de la France est de tout faire pour que cesse la guerre aux portes de l’Europe. L’impuissance ne peut servir de réponse à la violation du droit international.</td>\n",
       "      <td>responsabilite france faire cesser guerre porter europe impuissance pouvoir servir reponse violation droit international</td>\n",
       "    </tr>\n",
       "    <tr>\n",
       "      <th>4</th>\n",
       "      <td>international</td>\n",
       "      <td>#UkraineRussie | Le droit international est violé. L’impuissance ne peut servir de réponse. https://t.co/NXVd1s84Nb</td>\n",
       "      <td>ukrainerussie droit international violer impuissance pouvoir servir reponse</td>\n",
       "    </tr>\n",
       "  </tbody>\n",
       "</table>\n",
       "</div>"
      ],
      "text/plain": [
       "           label  \\\n",
       "0   aide_sociale   \n",
       "1   aide_sociale   \n",
       "2     democratie   \n",
       "3  international   \n",
       "4  international   \n",
       "\n",
       "                                                                                                                                                                                                 data  \\\n",
       "0                                                                                         Nous aurons à être solidaires et accueillants de celles et ceux qui fuient aujourd’hui leur pays en guerre.   \n",
       "1                                                                                                          🇺🇦 Solidarité avec l’Ukraine, solidarité avec le peuple ukrainien. https://t.co/r1l8bVoHHd   \n",
       "2  Je serai place de la République à Paris ce soir à 18h en soutien au peuple ukrainien. J’appelle tous les citoyens Français qui ont la paix au cœur à se mobiliser. La voix de notre peuple compte.   \n",
       "3                    La responsabilité de la France est de tout faire pour que cesse la guerre aux portes de l’Europe. L’impuissance ne peut servir de réponse à la violation du droit international.   \n",
       "4                                                                                 #UkraineRussie | Le droit international est violé. L’impuissance ne peut servir de réponse. https://t.co/NXVd1s84Nb   \n",
       "\n",
       "                                                                                                                  data_clean  \n",
       "0                                                                                     solidaire accueillant fuir pays guerre  \n",
       "1                                                                            solidarite ukraine solidarite peupler ukrainien  \n",
       "2  placer republique paris soir soutien peupler ukrainien appeler citoyen francais paix coeur mobiliser voix peupler compter  \n",
       "3   responsabilite france faire cesser guerre porter europe impuissance pouvoir servir reponse violation droit international  \n",
       "4                                                ukrainerussie droit international violer impuissance pouvoir servir reponse  "
      ]
     },
     "execution_count": 1,
     "metadata": {},
     "output_type": "execute_result"
    }
   ],
   "source": [
    "import pandas as pd\n",
    "pd.set_option('display.max_colwidth', None)\n",
    "df = pd.read_csv('D:\\\\\\Data\\\\\\Work\\\\\\Stage_Cergy\\\\\\Tests_modèles\\\\Sk_learn\\\\files\\\\tweets_clean.csv') \n",
    "df[[\"label\",\"data\",\"data_clean\"]].head()"
   ]
  },
  {
   "cell_type": "code",
   "execution_count": 7,
   "metadata": {},
   "outputs": [
    {
     "data": {
      "text/plain": [
       "label\n",
       "aide_sociale     283\n",
       "culture          368\n",
       "democratie       521\n",
       "ecologie         425\n",
       "education        248\n",
       "emploi           381\n",
       "immigration      156\n",
       "international    417\n",
       "pouvoir_achat    359\n",
       "sante            206\n",
       "securite         374\n",
       "dtype: int64"
      ]
     },
     "execution_count": 7,
     "metadata": {},
     "output_type": "execute_result"
    }
   ],
   "source": [
    "df.groupby('label').size()"
   ]
  },
  {
   "cell_type": "markdown",
   "metadata": {},
   "source": [
    "### Data pre-processing"
   ]
  },
  {
   "cell_type": "code",
   "execution_count": 2,
   "metadata": {},
   "outputs": [
    {
     "data": {
      "text/html": [
       "<div>\n",
       "<style scoped>\n",
       "    .dataframe tbody tr th:only-of-type {\n",
       "        vertical-align: middle;\n",
       "    }\n",
       "\n",
       "    .dataframe tbody tr th {\n",
       "        vertical-align: top;\n",
       "    }\n",
       "\n",
       "    .dataframe thead th {\n",
       "        text-align: right;\n",
       "    }\n",
       "</style>\n",
       "<table border=\"1\" class=\"dataframe\">\n",
       "  <thead>\n",
       "    <tr style=\"text-align: right;\">\n",
       "      <th></th>\n",
       "      <th>label</th>\n",
       "      <th>data_clean</th>\n",
       "      <th>label_id</th>\n",
       "    </tr>\n",
       "  </thead>\n",
       "  <tbody>\n",
       "    <tr>\n",
       "      <th>0</th>\n",
       "      <td>aide_sociale</td>\n",
       "      <td>solidaire accueillant fuir pays guerre</td>\n",
       "      <td>0</td>\n",
       "    </tr>\n",
       "    <tr>\n",
       "      <th>1</th>\n",
       "      <td>aide_sociale</td>\n",
       "      <td>solidarite ukraine solidarite peupler ukrainien</td>\n",
       "      <td>0</td>\n",
       "    </tr>\n",
       "    <tr>\n",
       "      <th>2</th>\n",
       "      <td>democratie</td>\n",
       "      <td>placer republique paris soir soutien peupler ukrainien appeler citoyen francais paix coeur mobiliser voix peupler compter</td>\n",
       "      <td>1</td>\n",
       "    </tr>\n",
       "    <tr>\n",
       "      <th>3</th>\n",
       "      <td>international</td>\n",
       "      <td>responsabilite france faire cesser guerre porter europe impuissance pouvoir servir reponse violation droit international</td>\n",
       "      <td>2</td>\n",
       "    </tr>\n",
       "    <tr>\n",
       "      <th>4</th>\n",
       "      <td>international</td>\n",
       "      <td>ukrainerussie droit international violer impuissance pouvoir servir reponse</td>\n",
       "      <td>2</td>\n",
       "    </tr>\n",
       "  </tbody>\n",
       "</table>\n",
       "</div>"
      ],
      "text/plain": [
       "           label  \\\n",
       "0   aide_sociale   \n",
       "1   aide_sociale   \n",
       "2     democratie   \n",
       "3  international   \n",
       "4  international   \n",
       "\n",
       "                                                                                                                  data_clean  \\\n",
       "0                                                                                     solidaire accueillant fuir pays guerre   \n",
       "1                                                                            solidarite ukraine solidarite peupler ukrainien   \n",
       "2  placer republique paris soir soutien peupler ukrainien appeler citoyen francais paix coeur mobiliser voix peupler compter   \n",
       "3   responsabilite france faire cesser guerre porter europe impuissance pouvoir servir reponse violation droit international   \n",
       "4                                                ukrainerussie droit international violer impuissance pouvoir servir reponse   \n",
       "\n",
       "   label_id  \n",
       "0         0  \n",
       "1         0  \n",
       "2         1  \n",
       "3         2  \n",
       "4         2  "
      ]
     },
     "execution_count": 2,
     "metadata": {},
     "output_type": "execute_result"
    }
   ],
   "source": [
    "from io import StringIO\n",
    "\n",
    "col = ['label', 'data_clean']\n",
    "df = df[col]\n",
    "df = df[pd.notna(df['label'])]\n",
    "\n",
    "df.columns = ['label', 'data_clean']\n",
    "df['label_id'] = df['label'].factorize()[0] #Encoder tout les labels en numérique\n",
    "label_id_df = df[['label','label_id']].drop_duplicates().sort_values('label_id')\n",
    "\n",
    "#Dictionnaires pour le futur\n",
    "label_to_id = dict(label_id_df.values)\n",
    "id_to_label = dict(label_id_df[['label_id','label']].values) \n",
    "\n",
    "df.head()"
   ]
  },
  {
   "cell_type": "markdown",
   "metadata": {},
   "source": [
    "### Analyse des mots récurrentes par thématique"
   ]
  },
  {
   "cell_type": "code",
   "execution_count": 33,
   "metadata": {},
   "outputs": [],
   "source": [
    "def select_label(name):\n",
    "  new_df = df[df[\"label\"].str.contains(name)]\n",
    "  return new_df"
   ]
  },
  {
   "cell_type": "code",
   "execution_count": 34,
   "metadata": {},
   "outputs": [],
   "source": [
    "#Thématiques: aide sociale,culture,ecologie,education,emploi,immigration,international,droit politique,liberte,pouvoir achat, sante, securite\n",
    "thematique = \"democratie\"\n",
    "df3 = select_label(thematique)"
   ]
  },
  {
   "cell_type": "code",
   "execution_count": 35,
   "metadata": {},
   "outputs": [
    {
     "data": {
      "text/html": [
       "<div>\n",
       "<style scoped>\n",
       "    .dataframe tbody tr th:only-of-type {\n",
       "        vertical-align: middle;\n",
       "    }\n",
       "\n",
       "    .dataframe tbody tr th {\n",
       "        vertical-align: top;\n",
       "    }\n",
       "\n",
       "    .dataframe thead th {\n",
       "        text-align: right;\n",
       "    }\n",
       "</style>\n",
       "<table border=\"1\" class=\"dataframe\">\n",
       "  <thead>\n",
       "    <tr style=\"text-align: right;\">\n",
       "      <th></th>\n",
       "      <th>label</th>\n",
       "      <th>data_clean</th>\n",
       "    </tr>\n",
       "  </thead>\n",
       "  <tbody>\n",
       "    <tr>\n",
       "      <th>2</th>\n",
       "      <td>democratie</td>\n",
       "      <td>placer republique pari soir soutien peupler ukrainien appeler citoyen francais paix coeur mobiliser voix peupler compter</td>\n",
       "    </tr>\n",
       "    <tr>\n",
       "      <th>6</th>\n",
       "      <td>democratie</td>\n",
       "      <td>mois fin mandat engager nucleaire programmer rester passif accommoder vouloir vivre sujet non</td>\n",
       "    </tr>\n",
       "    <tr>\n",
       "      <th>11</th>\n",
       "      <td>democratie</td>\n",
       "      <td>generation penser monde agir revenu emancipation autonomie universel egal</td>\n",
       "    </tr>\n",
       "    <tr>\n",
       "      <th>13</th>\n",
       "      <td>democratie</td>\n",
       "      <td>justice epine dorsale democratie falloir rehabiliter mission miser mal quinquennat nicolassarkozy augmenter promotion magistrat record historique quinquennat beneficier</td>\n",
       "    </tr>\n",
       "    <tr>\n",
       "      <th>14</th>\n",
       "      <td>democratie</td>\n",
       "      <td>croire personnalite providentiel faiblesse supplementaire croire maturite peupler fr falloir personnalite courage rompre obsession incarnation consentir faire respirer democratie</td>\n",
       "    </tr>\n",
       "  </tbody>\n",
       "</table>\n",
       "</div>"
      ],
      "text/plain": [
       "         label  \\\n",
       "2   democratie   \n",
       "6   democratie   \n",
       "11  democratie   \n",
       "13  democratie   \n",
       "14  democratie   \n",
       "\n",
       "                                                                                                                                                                            data_clean  \n",
       "2                                                             placer republique pari soir soutien peupler ukrainien appeler citoyen francais paix coeur mobiliser voix peupler compter  \n",
       "6                                                                                        mois fin mandat engager nucleaire programmer rester passif accommoder vouloir vivre sujet non  \n",
       "11                                                                                                           generation penser monde agir revenu emancipation autonomie universel egal  \n",
       "13            justice epine dorsale democratie falloir rehabiliter mission miser mal quinquennat nicolassarkozy augmenter promotion magistrat record historique quinquennat beneficier  \n",
       "14  croire personnalite providentiel faiblesse supplementaire croire maturite peupler fr falloir personnalite courage rompre obsession incarnation consentir faire respirer democratie  "
      ]
     },
     "execution_count": 35,
     "metadata": {},
     "output_type": "execute_result"
    }
   ],
   "source": [
    "df3[['label',\"data_clean\"]].head()"
   ]
  },
  {
   "cell_type": "code",
   "execution_count": 36,
   "metadata": {},
   "outputs": [],
   "source": [
    "from collections import Counter\n",
    "\n",
    "def word_reccurence(int):\n",
    "  cnt = Counter()\n",
    "  for text in df3[\"data_clean\"].values:\n",
    "      for word in text.split():\n",
    "          cnt[word] += 1\n",
    "  return cnt.most_common(int) #Selection les mots les plus récurrents"
   ]
  },
  {
   "cell_type": "code",
   "execution_count": 37,
   "metadata": {},
   "outputs": [
    {
     "name": "stdout",
     "output_type": "stream",
     "text": [
      "[('justice', 95), ('droit', 88), ('liberte', 83), ('francais', 76), ('vouloir', 76), ('pouvoir', 75), ('contrer', 72), ('france', 70), ('falloir', 57), ('femme', 56), ('faire', 55), ('violence', 49), ('politique', 45), ('loi', 45), ('republique', 38), ('democratie', 36), ('mettre', 36), ('social', 34), ('pays', 33), ('president', 32), ('public', 30), ('etat', 30), ('porter', 30), ('devoir', 29), ('egalite', 29), ('pecresse', 29), ('gouvernement', 28), ('grand', 28), ('peupler', 27), ('fin', 27), ('vie', 26), ('lutter', 25), ('mourir', 25), ('societe', 23), ('europe', 23), ('victime', 23), ('vivre', 22), ('donner', 21), ('changer', 21), ('europeen', 21), ('travail', 21), ('devon', 20), ('temps', 20), ('interdire', 20), ('defendre', 20), ('bien', 19), ('homme', 19), ('moyen', 19), ('non', 18), ('battre', 18)]\n"
     ]
    }
   ],
   "source": [
    "print(word_reccurence(50))"
   ]
  },
  {
   "cell_type": "markdown",
   "metadata": {},
   "source": [
    "### Visualisation le nombre de tweets  des thématiques"
   ]
  },
  {
   "cell_type": "code",
   "execution_count": 12,
   "metadata": {},
   "outputs": [
    {
     "data": {
      "image/png": "[encoded data removed]",
      "text/plain": [
       "<Figure size 576x432 with 1 Axes>"
      ]
     },
     "metadata": {
      "needs_background": "light"
     },
     "output_type": "display_data"
    }
   ],
   "source": [
    "import matplotlib.pyplot as plt\n",
    "fig = plt.figure(figsize=(8,6))\n",
    "df.groupby('label').data_clean.count().sort_values().plot.bar(ylim=0)\n",
    "plt.show()"
   ]
  },
  {
   "cell_type": "markdown",
   "metadata": {},
   "source": [
    "## Evaluation des modèles "
   ]
  },
  {
   "cell_type": "code",
   "execution_count": 2,
   "metadata": {},
   "outputs": [],
   "source": [
    "from sklearn.naive_bayes import MultinomialNB\n",
    "from sklearn.svm import LinearSVC\n",
    "from sklearn.ensemble import RandomForestClassifier\n",
    "from sklearn.linear_model import LogisticRegression\n",
    "from sklearn.feature_extraction.text import TfidfVectorizer\n",
    "from sklearn.feature_extraction.text import CountVectorizer\n",
    "from sklearn.feature_extraction.text import TfidfTransformer\n",
    "\n",
    "from sklearn.metrics import confusion_matrix\n",
    "from sklearn.metrics import classification_report\n",
    "from sklearn.metrics import accuracy_score\n",
    "\n",
    "from sklearn.model_selection import train_test_split\n"
   ]
  },
  {
   "cell_type": "markdown",
   "metadata": {},
   "source": [
    "### Evaluation par fit_transform"
   ]
  },
  {
   "cell_type": "code",
   "execution_count": 4,
   "metadata": {},
   "outputs": [],
   "source": [
    "vectorizer = TfidfVectorizer()\n",
    "features = vectorizer.fit_transform(df.data_clean).toarray() #Transformation les données de textes en vecteurs\n",
    "labels = df.label_id"
   ]
  },
  {
   "cell_type": "code",
   "execution_count": null,
   "metadata": {},
   "outputs": [],
   "source": [
    "names = vectorizer.get_feature_names()\n",
    "names"
   ]
  },
  {
   "cell_type": "code",
   "execution_count": 17,
   "metadata": {},
   "outputs": [
    {
     "data": {
      "text/plain": [
       "(3738, 8444)"
      ]
     },
     "execution_count": 17,
     "metadata": {},
     "output_type": "execute_result"
    }
   ],
   "source": [
    "features.shape "
   ]
  },
  {
   "cell_type": "code",
   "execution_count": 7,
   "metadata": {},
   "outputs": [
    {
     "name": "stdout",
     "output_type": "stream",
     "text": [
      "Score : 0.643048128342246\n"
     ]
    }
   ],
   "source": [
    "X_train, X_test, y_train, y_test = train_test_split(features,labels,test_size=0.20,random_state = 0)\n",
    "\n",
    "model = LinearSVC()\n",
    "#model = LogisticRegression() \n",
    "#model = RandomForestClassifier(n_estimators=400, random_state=0)   \n",
    "model.fit(X_train, y_train) #Entrainement des données\n",
    "y_pred = model.predict(X_test)\n",
    "\n",
    "#Score\n",
    "score = model.score(X_test,y_test)\n",
    "print(\"Score :\",score)"
   ]
  },
  {
   "cell_type": "code",
   "execution_count": null,
   "metadata": {},
   "outputs": [],
   "source": [
    "print(confusion_matrix(y_test,y_pred)) \n",
    "print(classification_report(y_test,y_pred)) \n",
    "print(accuracy_score(y_test,y_pred))"
   ]
  },
  {
   "cell_type": "markdown",
   "metadata": {},
   "source": [
    "##### Sauvegarder la version Sk learn du modèle zn joblib"
   ]
  },
  {
   "cell_type": "code",
   "execution_count": 18,
   "metadata": {},
   "outputs": [
    {
     "name": "stdout",
     "output_type": "stream",
     "text": [
      "1.0.2\n"
     ]
    }
   ],
   "source": [
    "import sklearn \n",
    "print(sklearn.__version__)"
   ]
  },
  {
   "cell_type": "code",
   "execution_count": 12,
   "metadata": {},
   "outputs": [
    {
     "data": {
      "text/plain": [
       "['D:\\\\\\\\Data\\\\\\\\Work\\\\\\\\Stage_Cergy\\\\\\\\Tests_modèles\\\\Sk_learn\\\\files\\\\classification_0.27_1.0.2.joblib']"
      ]
     },
     "execution_count": 12,
     "metadata": {},
     "output_type": "execute_result"
    }
   ],
   "source": [
    "from joblib import dump, load\n",
    "dump(model, 'D:\\\\\\Data\\\\\\Work\\\\\\Stage_Cergy\\\\\\Tests_modèles\\\\Sk_learn\\\\files\\\\classification_0.27_1.0.2.joblib')"
   ]
  },
  {
   "cell_type": "markdown",
   "metadata": {},
   "source": [
    "#### Import le modèle sauvegardé en joblib"
   ]
  },
  {
   "cell_type": "code",
   "execution_count": 13,
   "metadata": {},
   "outputs": [],
   "source": [
    "new_model = load('D:\\\\\\Data\\\\\\Work\\\\\\Stage_Cergy\\\\\\Tests_modèles\\\\Sk_learn\\\\files\\\\classification_0.27_1.0.2.joblib')"
   ]
  },
  {
   "cell_type": "markdown",
   "metadata": {},
   "source": [
    "### Dictionnaire des thématiques prédictes"
   ]
  },
  {
   "cell_type": "code",
   "execution_count": 3,
   "metadata": {},
   "outputs": [],
   "source": [
    "col = ['label', 'data_clean']\n",
    "df4 = df[col]\n",
    "df = df[pd.notna(df['label'])]\n",
    "df4.columns = ['label', 'data_clean']\n",
    "\n",
    "X_train, X_test, y_train, y_test = train_test_split(df4['data_clean'], df4['label'], random_state = 0)\n",
    "count_vect = CountVectorizer()\n",
    "tfidf_transformer = TfidfTransformer()\n",
    "X_train_counts = count_vect.fit_transform(X_train)\n",
    "X_train_tfidf = tfidf_transformer.fit_transform(X_train_counts)\n",
    "model = LinearSVC().fit(X_train_tfidf, y_train)"
   ]
  },
  {
   "cell_type": "code",
   "execution_count": 18,
   "metadata": {},
   "outputs": [
    {
     "name": "stdout",
     "output_type": "stream",
     "text": [
      "(2803, 7347)\n"
     ]
    }
   ],
   "source": [
    "print(X_train_counts.shape)"
   ]
  },
  {
   "cell_type": "code",
   "execution_count": 19,
   "metadata": {},
   "outputs": [
    {
     "name": "stdout",
     "output_type": "stream",
     "text": [
      "(2803, 7347)\n"
     ]
    }
   ],
   "source": [
    "print(X_train_tfidf.shape)"
   ]
  },
  {
   "cell_type": "code",
   "execution_count": 9,
   "metadata": {},
   "outputs": [],
   "source": [
    "import pickle\n",
    "\n",
    "# Save the vectorizer\n",
    "vec_file = 'D:\\\\\\Data\\\\\\Work\\\\\\Stage_Cergy\\\\\\Tests_modèles\\\\Sk_learn\\\\files\\\\vectorizer.pickle'\n",
    "pickle.dump(count_vect, open(vec_file, 'wb'))\n",
    "\n",
    "# Save the model\n",
    "mod_file = 'D:\\\\\\Data\\\\\\Work\\\\\\Stage_Cergy\\\\\\Tests_modèles\\\\Sk_learn\\\\files\\\\classification.model.joblib'\n",
    "pickle.dump(model, open(mod_file, 'wb'))"
   ]
  },
  {
   "cell_type": "markdown",
   "metadata": {},
   "source": [
    "##### Sauvegarder la version Sk learn du modèle en ONNX"
   ]
  },
  {
   "cell_type": "code",
   "execution_count": 10,
   "metadata": {},
   "outputs": [],
   "source": [
    "from skl2onnx.common.data_types import Int64TensorType\n",
    "from skl2onnx import convert_sklearn\n",
    "\n",
    "model_onnx = convert_sklearn(\n",
    "    model, \"tfidf\",\n",
    "    initial_types=[(\"Float64_input\", Int64TensorType([None, 2]))])\n",
    "\n",
    "with open(\"D:\\\\Data\\\\Work\\\\Stage_Cergy\\\\Tests_modèles\\\\Sk_learn\\\\files\\\\classification.onnx\", \"wb\") as f:\n",
    "    f.write(model_onnx.SerializeToString())"
   ]
  },
  {
   "cell_type": "markdown",
   "metadata": {},
   "source": [
    "#### Import le modèle sauvegardé en ONNX"
   ]
  },
  {
   "cell_type": "code",
   "execution_count": null,
   "metadata": {},
   "outputs": [],
   "source": [
    "import onnxruntime as rt\n",
    "\n",
    "sess = rt.InferenceSession(\"D:\\\\\\Data\\\\\\Work\\\\\\Stage_Cergy\\\\\\Tests_modèles\\\\Sk_learn\\\\files\\\\classification.onnx\")\n",
    "input_name = sess.get_inputs()[0].name\n",
    "label_name = sess.get_outputs()[0].name\n",
    "pred_onx = sess.run([label_name], {input_name: vec_file.transform([\"prix d'essence\"])})\n",
    "print(pred_onx)"
   ]
  },
  {
   "cell_type": "code",
   "execution_count": 25,
   "metadata": {},
   "outputs": [],
   "source": [
    "def classify_utterance(utt):\n",
    "    # load the vectorizer\n",
    "    loaded_vectorizer = pickle.load(open('D:\\\\\\Data\\\\\\Work\\\\\\Stage_Cergy\\\\\\Tests_modèles\\\\Sk_learn\\\\files\\\\vectorizer.pickle', 'rb'))\n",
    "    # load the model\n",
    "    loaded_model = pickle.load(open('D:\\\\\\Data\\\\\\Work\\\\\\Stage_Cergy\\\\\\Tests_modèles\\\\Sk_learn\\\\files\\\\classification.model.joblib', 'rb'))\n",
    "    # make a prediction\n",
    "    print(loaded_model.predict(loaded_vectorizer.transform([utt])))"
   ]
  },
  {
   "cell_type": "code",
   "execution_count": 26,
   "metadata": {},
   "outputs": [
    {
     "name": "stdout",
     "output_type": "stream",
     "text": [
      "['aide_sociale']\n"
     ]
    }
   ],
   "source": [
    "classify_utterance(\"solidaire accueillant fuir pays guerre\")"
   ]
  },
  {
   "cell_type": "markdown",
   "metadata": {},
   "source": [
    "### Evaluation des modèles avec cross_val_score"
   ]
  },
  {
   "cell_type": "code",
   "execution_count": 253,
   "metadata": {},
   "outputs": [],
   "source": [
    "from sklearn.model_selection import cross_val_score\n",
    "\n",
    "X_train, X_test, y_train, y_test = train_test_split(features,labels,test_size=0.2, random_state=0) #Entrainement 80% Test 20%\n",
    "\n",
    "models = [\n",
    "    RandomForestClassifier(n_estimators=400, random_state=0),\n",
    "    LinearSVC(),\n",
    "    MultinomialNB(),\n",
    "    LogisticRegression(),\n",
    "]\n",
    "CV =  5 #Nombre de splits dans le crossValidation \n",
    "cv_df = pd.DataFrame(index=range(CV * len(models))) #Creation d'un dataframe sur les différents modèles de crossValidation \n",
    "val_score = []\n",
    "for model in models:\n",
    "  model_name = model.__class__.__name__\n",
    "  accuracies = cross_val_score(model, features, labels, scoring='accuracy', cv=CV)\n",
    "  for fold_idx, accuracy in enumerate(accuracies):\n",
    "    val_score.append((model_name, fold_idx, accuracy)) #Liste de validation  \n",
    "cv_df = pd.DataFrame(val_score, columns=['model_name', 'fold_idx', 'accuracy'])"
   ]
  },
  {
   "cell_type": "code",
   "execution_count": 260,
   "metadata": {},
   "outputs": [
    {
     "data": {
      "image/png": "[encoded data removed]",
      "text/plain": [
       "<Figure size 432x288 with 1 Axes>"
      ]
     },
     "metadata": {
      "needs_background": "light"
     },
     "output_type": "display_data"
    }
   ],
   "source": [
    "import seaborn as sns\n",
    "\n",
    "sns.boxplot(x='model_name', y='accuracy', data=cv_df)\n",
    "sns.stripplot(x='model_name', y='accuracy', data=cv_df, \n",
    "              size=8, jitter=True, edgecolor=\"gray\", linewidth=2)\n",
    "plt.show()"
   ]
  },
  {
   "cell_type": "code",
   "execution_count": 254,
   "metadata": {},
   "outputs": [
    {
     "data": {
      "text/plain": [
       "model_name\n",
       "MultinomialNB             0.469795\n",
       "LogisticRegression        0.596863\n",
       "LinearSVC                 0.601149\n",
       "RandomForestClassifier    0.607555\n",
       "Name: accuracy, dtype: float64"
      ]
     },
     "execution_count": 254,
     "metadata": {},
     "output_type": "execute_result"
    }
   ],
   "source": [
    "cv_df.groupby('model_name').accuracy.mean().sort_values()"
   ]
  }
 ],
 "metadata": {
  "interpreter": {
   "hash": "b7fcb2a916905a12e4c273a8d3b8170cbebff15f2464992c600141e407bdcc80"
  },
  "kernelspec": {
   "display_name": "Python 3.9.0 64-bit",
   "language": "python",
   "name": "python3"
  },
  "language_info": {
   "codemirror_mode": {
    "name": "ipython",
    "version": 3
   },
   "file_extension": ".py",
   "mimetype": "text/x-python",
   "name": "python",
   "nbconvert_exporter": "python",
   "pygments_lexer": "ipython3",
   "version": "3.9.0"
  },
  "orig_nbformat": 4
 },
 "nbformat": 4,
 "nbformat_minor": 2
}
